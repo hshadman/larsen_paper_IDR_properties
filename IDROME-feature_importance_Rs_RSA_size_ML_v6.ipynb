{
 "cells": [
  {
   "cell_type": "code",
   "execution_count": 1,
   "id": "f8c49765-4551-4d34-abb3-a24b58298052",
   "metadata": {},
   "outputs": [],
   "source": [
    "import pandas as pd\n",
    "import mdtraj as md\n",
    "import numpy as np\n",
    "from numpy.random import seed\n",
    "from numpy.random import shuffle\n",
    "import matplotlib.pyplot as plt\n",
    "from matplotlib.pyplot import cm\n",
    "from __future__ import print_function\n",
    "import seaborn as sns\n",
    "from matplotlib.ticker import NullFormatter, MaxNLocator\n",
    "import matplotlib.ticker as ticker\n",
    "import plotly.graph_objects as go\n",
    "import scipy as sp\n",
    "from itertools import chain\n",
    "import matplotlib as mpl\n",
    "from matplotlib.lines import Line2D\n",
    "from scipy import spatial\n",
    "from scipy.spatial import ConvexHull\n",
    "from scipy.optimize import curve_fit\n",
    "import scipy.stats as stats\n",
    "import statsmodels.stats.weightstats\n",
    "from matplotlib import path\n",
    "from scipy.stats import probplot,shapiro, sem\n",
    "import statsmodels.api as sm\n",
    "from scipy.interpolate import make_interp_spline\n",
    "from mpl_toolkits.mplot3d.axes3d import Axes3D\n",
    "from matplotlib.ticker import (AutoMinorLocator, MultipleLocator)\n",
    "from matplotlib import cm\n",
    "from numpy import linspace\n",
    "import umap.umap_ as umap\n",
    "#import pylab\n",
    "\n",
    "from scipy import stats\n",
    "from scipy.stats import pearsonr\n",
    "from sklearn.model_selection import train_test_split\n",
    "from sklearn.metrics import accuracy_score,r2_score, mean_squared_error\n",
    "from sklearn.metrics import RocCurveDisplay, roc_auc_score\n",
    "from sklearn.linear_model import RidgeCV\n",
    "from sklearn.metrics import f1_score, confusion_matrix, ConfusionMatrixDisplay,classification_report\n",
    "from sklearn.svm import SVC, SVR\n",
    "from sklearn.preprocessing import LabelEncoder, label_binarize, StandardScaler\n",
    "\n",
    "\n",
    "import os\n",
    "#import PIL\n",
    "#from scipy.ndimage import gaussian_filter, uniform_filter1d"
   ]
  },
  {
   "cell_type": "markdown",
   "id": "35748cfd-4076-453b-aca6-698d34f56177",
   "metadata": {},
   "source": [
    "# Some Functions"
   ]
  },
  {
   "cell_type": "code",
   "execution_count": 2,
   "id": "1225c812-d181-4d93-aabf-09ef05071903",
   "metadata": {},
   "outputs": [
    {
     "name": "stdout",
     "output_type": "stream",
     "text": [
      "THIS IS A GLOBAL VARIABLE. Do not change testeq_GW\n"
     ]
    }
   ],
   "source": [
    "print('THIS IS A GLOBAL VARIABLE. Do not change testeq_GW')\n",
    "global testeq_GW\n",
    "testeq_GW= pd.read_csv('../segmented_chain_project/reference_GW_chainlen_100_for_RSA.csv')"
   ]
  },
  {
   "cell_type": "markdown",
   "id": "1fd550f0-da9a-4450-a94e-cf83c3d4b465",
   "metadata": {},
   "source": [
    "# generate a dataframe connecting directory with seq_name in their property df"
   ]
  },
  {
   "cell_type": "code",
   "execution_count": 3,
   "id": "81c12dce-690d-4a48-8780-7577f77cb7bc",
   "metadata": {
    "scrolled": true
   },
   "outputs": [
    {
     "name": "stdout",
     "output_type": "stream",
     "text": [
      "CPU times: user 251 ms, sys: 1.04 s, total: 1.29 s\n",
      "Wall time: 10.2 s\n"
     ]
    },
    {
     "data": {
      "text/html": [
       "<div>\n",
       "<style scoped>\n",
       "    .dataframe tbody tr th:only-of-type {\n",
       "        vertical-align: middle;\n",
       "    }\n",
       "\n",
       "    .dataframe tbody tr th {\n",
       "        vertical-align: top;\n",
       "    }\n",
       "\n",
       "    .dataframe thead th {\n",
       "        text-align: right;\n",
       "    }\n",
       "</style>\n",
       "<table border=\"1\" class=\"dataframe\">\n",
       "  <thead>\n",
       "    <tr style=\"text-align: right;\">\n",
       "      <th></th>\n",
       "      <th>seq_name</th>\n",
       "      <th>seq_dir</th>\n",
       "      <th>protein_uniprot_id</th>\n",
       "    </tr>\n",
       "  </thead>\n",
       "  <tbody>\n",
       "    <tr>\n",
       "      <th>0</th>\n",
       "      <td>H0YL14_1_46</td>\n",
       "      <td>IDROME_larsen/IDRome_v4/H0/YL/14/1_46</td>\n",
       "      <td>H0YL14</td>\n",
       "    </tr>\n",
       "    <tr>\n",
       "      <th>1</th>\n",
       "      <td>H0YL09_1_131</td>\n",
       "      <td>IDROME_larsen/IDRome_v4/H0/YL/09/1_131</td>\n",
       "      <td>H0YL09</td>\n",
       "    </tr>\n",
       "    <tr>\n",
       "      <th>2</th>\n",
       "      <td>H0YKK7_1_89</td>\n",
       "      <td>IDROME_larsen/IDRome_v4/H0/YK/K7/1_89</td>\n",
       "      <td>H0YKK7</td>\n",
       "    </tr>\n",
       "    <tr>\n",
       "      <th>3</th>\n",
       "      <td>H0YKK7_135_164</td>\n",
       "      <td>IDROME_larsen/IDRome_v4/H0/YK/K7/135_164</td>\n",
       "      <td>H0YKK7</td>\n",
       "    </tr>\n",
       "    <tr>\n",
       "      <th>4</th>\n",
       "      <td>H0YKK7_430_550</td>\n",
       "      <td>IDROME_larsen/IDRome_v4/H0/YK/K7/430_550</td>\n",
       "      <td>H0YKK7</td>\n",
       "    </tr>\n",
       "    <tr>\n",
       "      <th>...</th>\n",
       "      <td>...</td>\n",
       "      <td>...</td>\n",
       "      <td>...</td>\n",
       "    </tr>\n",
       "    <tr>\n",
       "      <th>28053</th>\n",
       "      <td>A3QJZ6_111_153</td>\n",
       "      <td>IDROME_larsen/IDRome_v4/A3/QJ/Z6/111_153</td>\n",
       "      <td>A3QJZ6</td>\n",
       "    </tr>\n",
       "    <tr>\n",
       "      <th>28054</th>\n",
       "      <td>A3QJZ7_106_152</td>\n",
       "      <td>IDROME_larsen/IDRome_v4/A3/QJ/Z7/106_152</td>\n",
       "      <td>A3QJZ7</td>\n",
       "    </tr>\n",
       "    <tr>\n",
       "      <th>28055</th>\n",
       "      <td>A3KN83_1001_1044</td>\n",
       "      <td>IDROME_larsen/IDRome_v4/A3/KN/83/1001_1044</td>\n",
       "      <td>A3KN83</td>\n",
       "    </tr>\n",
       "    <tr>\n",
       "      <th>28056</th>\n",
       "      <td>A3KN83_1_250</td>\n",
       "      <td>IDROME_larsen/IDRome_v4/A3/KN/83/1_250</td>\n",
       "      <td>A3KN83</td>\n",
       "    </tr>\n",
       "    <tr>\n",
       "      <th>28057</th>\n",
       "      <td>A3KN83_666_850</td>\n",
       "      <td>IDROME_larsen/IDRome_v4/A3/KN/83/666_850</td>\n",
       "      <td>A3KN83</td>\n",
       "    </tr>\n",
       "  </tbody>\n",
       "</table>\n",
       "<p>28058 rows × 3 columns</p>\n",
       "</div>"
      ],
      "text/plain": [
       "               seq_name                                     seq_dir  \\\n",
       "0           H0YL14_1_46       IDROME_larsen/IDRome_v4/H0/YL/14/1_46   \n",
       "1          H0YL09_1_131      IDROME_larsen/IDRome_v4/H0/YL/09/1_131   \n",
       "2           H0YKK7_1_89       IDROME_larsen/IDRome_v4/H0/YK/K7/1_89   \n",
       "3        H0YKK7_135_164    IDROME_larsen/IDRome_v4/H0/YK/K7/135_164   \n",
       "4        H0YKK7_430_550    IDROME_larsen/IDRome_v4/H0/YK/K7/430_550   \n",
       "...                 ...                                         ...   \n",
       "28053    A3QJZ6_111_153    IDROME_larsen/IDRome_v4/A3/QJ/Z6/111_153   \n",
       "28054    A3QJZ7_106_152    IDROME_larsen/IDRome_v4/A3/QJ/Z7/106_152   \n",
       "28055  A3KN83_1001_1044  IDROME_larsen/IDRome_v4/A3/KN/83/1001_1044   \n",
       "28056      A3KN83_1_250      IDROME_larsen/IDRome_v4/A3/KN/83/1_250   \n",
       "28057    A3KN83_666_850    IDROME_larsen/IDRome_v4/A3/KN/83/666_850   \n",
       "\n",
       "      protein_uniprot_id  \n",
       "0                 H0YL14  \n",
       "1                 H0YL09  \n",
       "2                 H0YKK7  \n",
       "3                 H0YKK7  \n",
       "4                 H0YKK7  \n",
       "...                  ...  \n",
       "28053             A3QJZ6  \n",
       "28054             A3QJZ7  \n",
       "28055             A3KN83  \n",
       "28056             A3KN83  \n",
       "28057             A3KN83  \n",
       "\n",
       "[28058 rows x 3 columns]"
      ]
     },
     "execution_count": 3,
     "metadata": {},
     "output_type": "execute_result"
    }
   ],
   "source": [
    "%%time\n",
    "seq_name_list = []\n",
    "seq_name_dir = []\n",
    "protein_name = []\n",
    "for root, dirs, files in os.walk('IDROME_larsen/IDRome_v4/', topdown=False):\n",
    "    for name in files:\n",
    "        seq_name_list.append(''.join(root.split('/')[2:(len(root.split('/'))-1)]+['_']+[root.split('/')[len(root.split('/'))-1]]))\n",
    "        protein_name.append(''.join(root.split('/')[2:(len(root.split('/'))-1)]))\n",
    "        seq_name_dir.append(root)\n",
    "        break\n",
    "seq_name_dir_df = pd.DataFrame(zip(seq_name_list,seq_name_dir,protein_name),columns=['seq_name','seq_dir','protein_uniprot_id'])\n",
    "del seq_name_list, seq_name_dir, protein_name\n",
    "seq_name_dir_df"
   ]
  },
  {
   "cell_type": "markdown",
   "id": "e323bf95-bc5b-40ef-96e1-3ba6695d87d3",
   "metadata": {},
   "source": [
    "# write function"
   ]
  },
  {
   "cell_type": "code",
   "execution_count": 4,
   "id": "75462696-5cac-4fd3-8306-f45e6bddf6ef",
   "metadata": {},
   "outputs": [],
   "source": [
    "# def compute_3dplot_from_seq_name(seq_name):\n",
    "#     example_protein_dir = seq_name_dir_df[seq_name_dir_df.seq_name==seq_name].seq_dir.values[0]\n",
    "#     t = md.load(f'{example_protein_dir}/traj.xtc', top=f'{example_protein_dir}/top.pdb')\n",
    "#     t_df_moments = pd.DataFrame(md.principal_moments(t),columns=['R3','R2','R1']).iloc[10:,:].copy()\n",
    "#     t_df_moments['asphericity']=t_df_moments.R1.values-(0.5*(t_df_moments.R2.values+t_df_moments.R3.values))\n",
    "#     t_df_moments['acylindricity']=t_df_moments.R2.values-t_df_moments.R3.values\n",
    "#     t_df_moments['RSA']=(t_df_moments.asphericity.values**2+(0.75*t_df_moments.acylindricity.values**2))/(t_df_moments.R1.values+t_df_moments.R2.values+t_df_moments.R3.values)**2\n",
    "#     protein_df = t_df_moments[['RSA']].copy()\n",
    "#     del t_df_moments\n",
    "#     protein_df['Rg2'] = np.load(f'{example_protein_dir}/rg.npy')**2\n",
    "#     protein_df['Ree2'] = np.load(f'{example_protein_dir}/ete.npy')**2\n",
    "#     protein_df['ratio'] = protein_df['Ree2']/protein_df['Rg2']\n",
    "#     #plt.close()\n",
    "#     return protein_3dplot_against_GW(protein_df,seq_name,'protein','magenta')"
   ]
  },
  {
   "cell_type": "code",
   "execution_count": 6,
   "id": "ae1c9e0b-753b-44c7-8273-bc5384dccb71",
   "metadata": {},
   "outputs": [],
   "source": [
    "def get_grid_protein(seq_name):\n",
    "    example_protein_dir = seq_name_dir_df[seq_name_dir_df.seq_name==seq_name].seq_dir.values[0]\n",
    "    t = md.load(f'{example_protein_dir}/traj.xtc', top=f'{example_protein_dir}/top.pdb')\n",
    "    t_df_moments = pd.DataFrame(md.principal_moments(t),columns=['R3','R2','R1']).iloc[10:,:].copy()\n",
    "    t_df_moments['asphericity']=t_df_moments.R1.values-(0.5*(t_df_moments.R2.values+t_df_moments.R3.values))\n",
    "    t_df_moments['acylindricity']=t_df_moments.R2.values-t_df_moments.R3.values\n",
    "    t_df_moments['RSA']=(t_df_moments.asphericity.values**2+(0.75*t_df_moments.acylindricity.values**2))/(t_df_moments.R1.values+t_df_moments.R2.values+t_df_moments.R3.values)**2\n",
    "    protein_df = t_df_moments[['RSA']].copy()\n",
    "    del t_df_moments    \n",
    "\n",
    "    protein_df['Rg2'] = np.load(f'{example_protein_dir}/rg.npy')**2\n",
    "    protein_df['Ree2'] = np.load(f'{example_protein_dir}/ete.npy')**2\n",
    "    protein_df['ratio'] = protein_df['Ree2']/protein_df['Rg2']    \n",
    "    \n",
    "    protein_rg2 = np.load(f'{example_protein_dir}/rg.npy')**2\n",
    "    protein_ree2 = np.load(f'{example_protein_dir}/ete.npy')**2\n",
    "    protein_ratio = protein_ree2/protein_rg2\n",
    "    protein_rg_mean = np.mean(np.load(f'{example_protein_dir}/rg.npy'))\n",
    "    protein_rg_by_rg_mean = np.load(f'{example_protein_dir}/rg.npy')/protein_rg_mean\n",
    "    global grid_protein_size_shape, grid_protein_shape_shape, grid_protein_rg_rg_mean, grid_protein_Rs,grid_protein_RSA\n",
    "    x_polmodel_GW=[]\n",
    "    y_polmodel_GW=[]\n",
    "    x_total=[]\n",
    "    y_total=[]\n",
    "    p_total = []\n",
    "    q_total = []\n",
    "    GW_rg = testeq_GW['Rg2']**0.5\n",
    "    GW_rg_mean = GW_rg.mean()\n",
    "    GW_rg_by_rg_mean = GW_rg/GW_rg_mean\n",
    "    x_polmodel_GW.append(GW_rg_by_rg_mean)\n",
    "    y_polmodel_GW.append(testeq_GW['ratio'].values)\n",
    "\n",
    "    x_total.append(protein_rg_by_rg_mean)\n",
    "    y_total.append(protein_ratio)\n",
    "    p_total.append(protein_df.RSA.values)\n",
    "    q_total.append(protein_df.ratio.values)\n",
    "    \n",
    "    x_total=list(chain.from_iterable(x_total))\n",
    "    y_total=list(chain.from_iterable(y_total))\n",
    "    x_polmodel_GW=list(chain.from_iterable(x_polmodel_GW))\n",
    "    y_polmodel_GW=list(chain.from_iterable(y_polmodel_GW))\n",
    "    p_total=list(chain.from_iterable(p_total))\n",
    "    q_total=list(chain.from_iterable(q_total))\n",
    "    \n",
    "#size shape portion\n",
    "    max_x_val=3\n",
    "    max_y_val=30\n",
    "    xlims = [0,max_x_val]\n",
    "    ylims = [0,max_y_val]\n",
    "    step_x=0.3#(min(x_polmodel_GW)-max(x_polmodel_GW))/original_n_divisions\n",
    "    step_y=3#(\n",
    "    max_value_x=max(xlims)\n",
    "    n_divisions_x=round((max_value_x-min(xlims))/step_x)\n",
    "    \n",
    "    max_value_y=max(ylims)\n",
    "    n_divisions_y=round((max_value_y-min(ylims))/step_y)\n",
    "    #gridx = np.linspace(min(x_polmodel_GW), max(x_polmodel_GW), n_divisions_x)\n",
    "    gridx = np.linspace(min(xlims), max(xlims), n_divisions_x+1)\n",
    "    #gridy = np.linspace(min(y_polmodel_GW), max(y_polmodel_GW), n_divisions_y)\n",
    "    gridy = np.linspace(min(ylims), max(ylims), n_divisions_y+1)\n",
    "    \n",
    "    grid_protein_size_shape, _, _ = np.histogram2d(x_total, y_total, bins=[gridx, gridy])\n",
    "    #isolate the variable grids\n",
    "    grid_protein_rg_rg_mean,_ = np.histogram(x_total,bins=gridx)\n",
    "    grid_protein_Rs,_ = np.histogram(y_total,bins=gridy)\n",
    "    \n",
    "    grid_GW, _, _ = np.histogram2d(x_polmodel_GW, y_polmodel_GW, bins=[gridx, gridy])\n",
    "    del xlims, ylims, max_x_val, max_y_val, n_divisions_x, n_divisions_y, step_x, step_y, gridx, gridy\n",
    "#shape shape portion\n",
    "    max_p_val=1\n",
    "    max_q_val=30\n",
    "    plims = [0,max_p_val]\n",
    "    qlims = [0,max_q_val]\n",
    "    \n",
    "    step_p=0.1\n",
    "    step_q=3\n",
    "    max_value_p=max(plims)\n",
    "    n_divisions_p=round((max_value_p-min(plims))/step_p)\n",
    "    \n",
    "    max_value_q=max(qlims)\n",
    "    n_divisions_q=round((max_value_q-min(qlims))/step_q)\n",
    "    \n",
    "    gridp = np.linspace(min(plims), max(plims), n_divisions_p+1)\n",
    "    gridq = np.linspace(min(qlims), max(qlims), n_divisions_q+1)\n",
    "    \n",
    "    grid_protein_shape_shape, _, _ = np.histogram2d(p_total, q_total, bins=[gridp, gridq])\n",
    "    grid_protein_RSA,_ = np.histogram(p_total,bins=gridp)\n",
    "    \n",
    "    return"
   ]
  },
  {
   "cell_type": "code",
   "execution_count": 5,
   "id": "b7e2f325-d9a2-465e-a66b-c7de1c94b481",
   "metadata": {},
   "outputs": [],
   "source": [
    "def compile_umap_df(provided_seq_list):\n",
    "    j=0\n",
    "    for provided_seq in provided_seq_list:\n",
    "        if j==0:\n",
    "            get_grid_protein(provided_seq)\n",
    "            current_df_size = pd.DataFrame(grid_protein_rg_rg_mean,index=[f'size+{j}' for j in range(len(grid_protein_rg_rg_mean))]).T\n",
    "            current_df_Rs = pd.DataFrame(grid_protein_Rs,index=[f'ratio+{j}' for j in range(len(grid_protein_Rs))]).T\n",
    "            current_df_RSA = pd.DataFrame(grid_protein_RSA,index=[f'RSA+{j}' for j in range(len(grid_protein_RSA))]).T        \n",
    "            current_df_total = pd.concat([current_df_size,current_df_Rs,current_df_RSA],axis=1)\n",
    "            current_df_total.insert(0,'peptID',provided_seq)\n",
    "            master_df = current_df_total.copy()\n",
    "        else:\n",
    "            get_grid_protein(provided_seq)\n",
    "            current_df_size = pd.DataFrame(grid_protein_rg_rg_mean,index=[f'size+{j}' for j in range(len(grid_protein_rg_rg_mean))]).T\n",
    "            current_df_Rs = pd.DataFrame(grid_protein_Rs,index=[f'ratio+{j}' for j in range(len(grid_protein_Rs))]).T\n",
    "            current_df_RSA = pd.DataFrame(grid_protein_RSA,index=[f'RSA+{j}' for j in range(len(grid_protein_RSA))]).T        \n",
    "            current_df_total = pd.concat([current_df_size,current_df_Rs,current_df_RSA],axis=1)\n",
    "            current_df_total.insert(0,'peptID',provided_seq)\n",
    "            master_df = pd.concat([master_df,current_df_total]).copy()\n",
    "        j+=1\n",
    "    return master_df"
   ]
  },
  {
   "cell_type": "markdown",
   "id": "98349f7a-3262-4ff8-a471-29a53fe46e56",
   "metadata": {},
   "source": [
    "# get 2d conformation shape plot at different nu values (run in order, see j value in each cell) (ALL ~28000 sequences)"
   ]
  },
  {
   "cell_type": "code",
   "execution_count": 7,
   "id": "50635937-9356-401e-8dae-6a571b595f72",
   "metadata": {},
   "outputs": [
    {
     "name": "stdout",
     "output_type": "stream",
     "text": [
      "CPU times: user 1h 35min 22s, sys: 3min 55s, total: 1h 39min 18s\n",
      "Wall time: 1h 54min 59s\n"
     ]
    }
   ],
   "source": [
    "%%time\n",
    "#do not run\n",
    "\n",
    "#all_seq_list = seq_name_dir_df['seq_name'].to_list()\n",
    "#master_df = compile_umap_df(all_seq_list).copy()"
   ]
  },
  {
   "cell_type": "code",
   "execution_count": 8,
   "id": "8b2c3e45-a360-4376-a8fd-678e90b25d49",
   "metadata": {},
   "outputs": [
    {
     "data": {
      "text/html": [
       "<div>\n",
       "<style scoped>\n",
       "    .dataframe tbody tr th:only-of-type {\n",
       "        vertical-align: middle;\n",
       "    }\n",
       "\n",
       "    .dataframe tbody tr th {\n",
       "        vertical-align: top;\n",
       "    }\n",
       "\n",
       "    .dataframe thead th {\n",
       "        text-align: right;\n",
       "    }\n",
       "</style>\n",
       "<table border=\"1\" class=\"dataframe\">\n",
       "  <thead>\n",
       "    <tr style=\"text-align: right;\">\n",
       "      <th></th>\n",
       "      <th>peptID</th>\n",
       "      <th>size+0</th>\n",
       "      <th>size+1</th>\n",
       "      <th>size+2</th>\n",
       "      <th>size+3</th>\n",
       "      <th>size+4</th>\n",
       "      <th>size+5</th>\n",
       "      <th>size+6</th>\n",
       "      <th>size+7</th>\n",
       "      <th>size+8</th>\n",
       "      <th>...</th>\n",
       "      <th>RSA+0</th>\n",
       "      <th>RSA+1</th>\n",
       "      <th>RSA+2</th>\n",
       "      <th>RSA+3</th>\n",
       "      <th>RSA+4</th>\n",
       "      <th>RSA+5</th>\n",
       "      <th>RSA+6</th>\n",
       "      <th>RSA+7</th>\n",
       "      <th>RSA+8</th>\n",
       "      <th>RSA+9</th>\n",
       "    </tr>\n",
       "  </thead>\n",
       "  <tbody>\n",
       "    <tr>\n",
       "      <th>0</th>\n",
       "      <td>H0YL14_1_46</td>\n",
       "      <td>0</td>\n",
       "      <td>0</td>\n",
       "      <td>339</td>\n",
       "      <td>499</td>\n",
       "      <td>148</td>\n",
       "      <td>14</td>\n",
       "      <td>0</td>\n",
       "      <td>0</td>\n",
       "      <td>0</td>\n",
       "      <td>...</td>\n",
       "      <td>21</td>\n",
       "      <td>105</td>\n",
       "      <td>181</td>\n",
       "      <td>170</td>\n",
       "      <td>170</td>\n",
       "      <td>155</td>\n",
       "      <td>109</td>\n",
       "      <td>70</td>\n",
       "      <td>19</td>\n",
       "      <td>0</td>\n",
       "    </tr>\n",
       "    <tr>\n",
       "      <th>1</th>\n",
       "      <td>H0YL09_1_131</td>\n",
       "      <td>0</td>\n",
       "      <td>2</td>\n",
       "      <td>365</td>\n",
       "      <td>442</td>\n",
       "      <td>168</td>\n",
       "      <td>23</td>\n",
       "      <td>0</td>\n",
       "      <td>0</td>\n",
       "      <td>0</td>\n",
       "      <td>...</td>\n",
       "      <td>34</td>\n",
       "      <td>146</td>\n",
       "      <td>189</td>\n",
       "      <td>170</td>\n",
       "      <td>181</td>\n",
       "      <td>125</td>\n",
       "      <td>79</td>\n",
       "      <td>64</td>\n",
       "      <td>12</td>\n",
       "      <td>0</td>\n",
       "    </tr>\n",
       "    <tr>\n",
       "      <th>2</th>\n",
       "      <td>H0YKK7_1_89</td>\n",
       "      <td>0</td>\n",
       "      <td>3</td>\n",
       "      <td>378</td>\n",
       "      <td>435</td>\n",
       "      <td>157</td>\n",
       "      <td>27</td>\n",
       "      <td>0</td>\n",
       "      <td>0</td>\n",
       "      <td>0</td>\n",
       "      <td>...</td>\n",
       "      <td>29</td>\n",
       "      <td>127</td>\n",
       "      <td>156</td>\n",
       "      <td>157</td>\n",
       "      <td>171</td>\n",
       "      <td>140</td>\n",
       "      <td>122</td>\n",
       "      <td>74</td>\n",
       "      <td>23</td>\n",
       "      <td>1</td>\n",
       "    </tr>\n",
       "    <tr>\n",
       "      <th>3</th>\n",
       "      <td>H0YKK7_135_164</td>\n",
       "      <td>0</td>\n",
       "      <td>0</td>\n",
       "      <td>338</td>\n",
       "      <td>509</td>\n",
       "      <td>145</td>\n",
       "      <td>8</td>\n",
       "      <td>0</td>\n",
       "      <td>0</td>\n",
       "      <td>0</td>\n",
       "      <td>...</td>\n",
       "      <td>20</td>\n",
       "      <td>100</td>\n",
       "      <td>163</td>\n",
       "      <td>164</td>\n",
       "      <td>181</td>\n",
       "      <td>141</td>\n",
       "      <td>129</td>\n",
       "      <td>74</td>\n",
       "      <td>28</td>\n",
       "      <td>0</td>\n",
       "    </tr>\n",
       "    <tr>\n",
       "      <th>4</th>\n",
       "      <td>H0YKK7_430_550</td>\n",
       "      <td>0</td>\n",
       "      <td>0</td>\n",
       "      <td>352</td>\n",
       "      <td>488</td>\n",
       "      <td>143</td>\n",
       "      <td>17</td>\n",
       "      <td>0</td>\n",
       "      <td>0</td>\n",
       "      <td>0</td>\n",
       "      <td>...</td>\n",
       "      <td>25</td>\n",
       "      <td>116</td>\n",
       "      <td>156</td>\n",
       "      <td>185</td>\n",
       "      <td>168</td>\n",
       "      <td>152</td>\n",
       "      <td>116</td>\n",
       "      <td>67</td>\n",
       "      <td>15</td>\n",
       "      <td>0</td>\n",
       "    </tr>\n",
       "    <tr>\n",
       "      <th>...</th>\n",
       "      <td>...</td>\n",
       "      <td>...</td>\n",
       "      <td>...</td>\n",
       "      <td>...</td>\n",
       "      <td>...</td>\n",
       "      <td>...</td>\n",
       "      <td>...</td>\n",
       "      <td>...</td>\n",
       "      <td>...</td>\n",
       "      <td>...</td>\n",
       "      <td>...</td>\n",
       "      <td>...</td>\n",
       "      <td>...</td>\n",
       "      <td>...</td>\n",
       "      <td>...</td>\n",
       "      <td>...</td>\n",
       "      <td>...</td>\n",
       "      <td>...</td>\n",
       "      <td>...</td>\n",
       "      <td>...</td>\n",
       "      <td>...</td>\n",
       "    </tr>\n",
       "    <tr>\n",
       "      <th>28053</th>\n",
       "      <td>A3QJZ6_111_153</td>\n",
       "      <td>0</td>\n",
       "      <td>1</td>\n",
       "      <td>362</td>\n",
       "      <td>475</td>\n",
       "      <td>147</td>\n",
       "      <td>15</td>\n",
       "      <td>0</td>\n",
       "      <td>0</td>\n",
       "      <td>0</td>\n",
       "      <td>...</td>\n",
       "      <td>20</td>\n",
       "      <td>116</td>\n",
       "      <td>161</td>\n",
       "      <td>169</td>\n",
       "      <td>154</td>\n",
       "      <td>150</td>\n",
       "      <td>112</td>\n",
       "      <td>85</td>\n",
       "      <td>33</td>\n",
       "      <td>0</td>\n",
       "    </tr>\n",
       "    <tr>\n",
       "      <th>28054</th>\n",
       "      <td>A3QJZ7_106_152</td>\n",
       "      <td>0</td>\n",
       "      <td>0</td>\n",
       "      <td>356</td>\n",
       "      <td>462</td>\n",
       "      <td>162</td>\n",
       "      <td>20</td>\n",
       "      <td>0</td>\n",
       "      <td>0</td>\n",
       "      <td>0</td>\n",
       "      <td>...</td>\n",
       "      <td>35</td>\n",
       "      <td>140</td>\n",
       "      <td>172</td>\n",
       "      <td>169</td>\n",
       "      <td>160</td>\n",
       "      <td>132</td>\n",
       "      <td>106</td>\n",
       "      <td>67</td>\n",
       "      <td>18</td>\n",
       "      <td>1</td>\n",
       "    </tr>\n",
       "    <tr>\n",
       "      <th>28055</th>\n",
       "      <td>A3KN83_1001_1044</td>\n",
       "      <td>0</td>\n",
       "      <td>1</td>\n",
       "      <td>353</td>\n",
       "      <td>487</td>\n",
       "      <td>149</td>\n",
       "      <td>9</td>\n",
       "      <td>1</td>\n",
       "      <td>0</td>\n",
       "      <td>0</td>\n",
       "      <td>...</td>\n",
       "      <td>22</td>\n",
       "      <td>110</td>\n",
       "      <td>185</td>\n",
       "      <td>150</td>\n",
       "      <td>159</td>\n",
       "      <td>140</td>\n",
       "      <td>129</td>\n",
       "      <td>85</td>\n",
       "      <td>20</td>\n",
       "      <td>0</td>\n",
       "    </tr>\n",
       "    <tr>\n",
       "      <th>28056</th>\n",
       "      <td>A3KN83_1_250</td>\n",
       "      <td>0</td>\n",
       "      <td>4</td>\n",
       "      <td>352</td>\n",
       "      <td>477</td>\n",
       "      <td>150</td>\n",
       "      <td>15</td>\n",
       "      <td>2</td>\n",
       "      <td>0</td>\n",
       "      <td>0</td>\n",
       "      <td>...</td>\n",
       "      <td>23</td>\n",
       "      <td>121</td>\n",
       "      <td>174</td>\n",
       "      <td>163</td>\n",
       "      <td>185</td>\n",
       "      <td>165</td>\n",
       "      <td>100</td>\n",
       "      <td>58</td>\n",
       "      <td>11</td>\n",
       "      <td>0</td>\n",
       "    </tr>\n",
       "    <tr>\n",
       "      <th>28057</th>\n",
       "      <td>A3KN83_666_850</td>\n",
       "      <td>0</td>\n",
       "      <td>1</td>\n",
       "      <td>337</td>\n",
       "      <td>516</td>\n",
       "      <td>133</td>\n",
       "      <td>10</td>\n",
       "      <td>3</td>\n",
       "      <td>0</td>\n",
       "      <td>0</td>\n",
       "      <td>...</td>\n",
       "      <td>52</td>\n",
       "      <td>166</td>\n",
       "      <td>207</td>\n",
       "      <td>187</td>\n",
       "      <td>173</td>\n",
       "      <td>115</td>\n",
       "      <td>59</td>\n",
       "      <td>35</td>\n",
       "      <td>6</td>\n",
       "      <td>0</td>\n",
       "    </tr>\n",
       "  </tbody>\n",
       "</table>\n",
       "<p>28058 rows × 31 columns</p>\n",
       "</div>"
      ],
      "text/plain": [
       "                 peptID  size+0  size+1  size+2  size+3  size+4  size+5  \\\n",
       "0           H0YL14_1_46       0       0     339     499     148      14   \n",
       "1          H0YL09_1_131       0       2     365     442     168      23   \n",
       "2           H0YKK7_1_89       0       3     378     435     157      27   \n",
       "3        H0YKK7_135_164       0       0     338     509     145       8   \n",
       "4        H0YKK7_430_550       0       0     352     488     143      17   \n",
       "...                 ...     ...     ...     ...     ...     ...     ...   \n",
       "28053    A3QJZ6_111_153       0       1     362     475     147      15   \n",
       "28054    A3QJZ7_106_152       0       0     356     462     162      20   \n",
       "28055  A3KN83_1001_1044       0       1     353     487     149       9   \n",
       "28056      A3KN83_1_250       0       4     352     477     150      15   \n",
       "28057    A3KN83_666_850       0       1     337     516     133      10   \n",
       "\n",
       "       size+6  size+7  size+8  ...  RSA+0  RSA+1  RSA+2  RSA+3  RSA+4  RSA+5  \\\n",
       "0           0       0       0  ...     21    105    181    170    170    155   \n",
       "1           0       0       0  ...     34    146    189    170    181    125   \n",
       "2           0       0       0  ...     29    127    156    157    171    140   \n",
       "3           0       0       0  ...     20    100    163    164    181    141   \n",
       "4           0       0       0  ...     25    116    156    185    168    152   \n",
       "...       ...     ...     ...  ...    ...    ...    ...    ...    ...    ...   \n",
       "28053       0       0       0  ...     20    116    161    169    154    150   \n",
       "28054       0       0       0  ...     35    140    172    169    160    132   \n",
       "28055       1       0       0  ...     22    110    185    150    159    140   \n",
       "28056       2       0       0  ...     23    121    174    163    185    165   \n",
       "28057       3       0       0  ...     52    166    207    187    173    115   \n",
       "\n",
       "       RSA+6  RSA+7  RSA+8  RSA+9  \n",
       "0        109     70     19      0  \n",
       "1         79     64     12      0  \n",
       "2        122     74     23      1  \n",
       "3        129     74     28      0  \n",
       "4        116     67     15      0  \n",
       "...      ...    ...    ...    ...  \n",
       "28053    112     85     33      0  \n",
       "28054    106     67     18      1  \n",
       "28055    129     85     20      0  \n",
       "28056    100     58     11      0  \n",
       "28057     59     35      6      0  \n",
       "\n",
       "[28058 rows x 31 columns]"
      ]
     },
     "execution_count": 8,
     "metadata": {},
     "output_type": "execute_result"
    }
   ],
   "source": [
    "#do not run \n",
    "#master_df = master_df.reset_index(drop=True)\n",
    "#master_df"
   ]
  },
  {
   "cell_type": "code",
   "execution_count": 10,
   "id": "51192bc3-1fea-4278-bc26-72ba2873c040",
   "metadata": {},
   "outputs": [],
   "source": [
    "#master_df.to_csv('all_seq_box_df_using_size-shape-shape-individually.csv')\n",
    "master_df = pd.read_csv('all_seq_box_df_using_size-shape-shape-individually.csv')\n",
    "master_df = master_df.reset_index(drop=True)"
   ]
  },
  {
   "cell_type": "code",
   "execution_count": 11,
   "id": "385435d1-b5ee-4d62-9edb-93eab5f708f9",
   "metadata": {},
   "outputs": [],
   "source": [
    "idrome_prop_df = pd.read_csv('combined_idrome_prop_df.csv')\n",
    "idrome_prop_df = pd.concat([master_df.set_index('peptID'),idrome_prop_df.set_index('seq_name')],axis=1)\n",
    "del master_df"
   ]
  },
  {
   "cell_type": "code",
   "execution_count": 12,
   "id": "86062f37-f796-4b39-8b96-4c6cef0b1a5e",
   "metadata": {},
   "outputs": [],
   "source": [
    "idrome_prop_df['extra_nu_cat']=['<=0.45' if nu_<=0.45 else '>0.55' if nu_>0.55 else '>0.45 & <=0.55' for nu_ in idrome_prop_df.nu.values]"
   ]
  },
  {
   "cell_type": "markdown",
   "id": "91b9ecfc-b788-4fec-b1d4-bee7cd51fc71",
   "metadata": {},
   "source": [
    "# separate X and y (using Rg/Rg_mean)\n"
   ]
  },
  {
   "cell_type": "code",
   "execution_count": 13,
   "id": "75574981-6f3b-4823-8dea-edc1bb9d9f55",
   "metadata": {},
   "outputs": [],
   "source": [
    "X = idrome_prop_df[idrome_prop_df.columns[idrome_prop_df.columns.str.contains('size')]]\n",
    "y = idrome_prop_df['nu']"
   ]
  },
  {
   "cell_type": "markdown",
   "id": "5b4becd2-cd60-4119-ac41-600f56d5f1e1",
   "metadata": {},
   "source": [
    "# Run Regressor models"
   ]
  },
  {
   "cell_type": "markdown",
   "id": "27de9e38-9b38-4dbf-9ddc-4b5d742778c1",
   "metadata": {},
   "source": [
    "## Random Forest regressor 25% test size"
   ]
  },
  {
   "cell_type": "code",
   "execution_count": 14,
   "id": "ba11cbab-be65-45db-bc33-a1eb176c4134",
   "metadata": {},
   "outputs": [],
   "source": [
    "# adapted from this website: https://towardsdatascience.com/random-forest-in-python-24d0893d51c0\n",
    "\n",
    "labels = np.array(y)\n",
    "features= np.array(X)"
   ]
  },
  {
   "cell_type": "code",
   "execution_count": 15,
   "id": "fc7748b4-06d5-4a6d-bff1-ab734963c044",
   "metadata": {},
   "outputs": [
    {
     "name": "stdout",
     "output_type": "stream",
     "text": [
      "fixed seed here\n"
     ]
    }
   ],
   "source": [
    "print('fixed seed here')\n",
    "train_features, test_features, train_labels, test_labels = train_test_split(features, labels, test_size = 0.25, random_state = 42)"
   ]
  },
  {
   "cell_type": "code",
   "execution_count": 16,
   "id": "50aab334-bc81-40cc-a502-e8bfacdb6200",
   "metadata": {},
   "outputs": [
    {
     "name": "stdout",
     "output_type": "stream",
     "text": [
      "Training Features Shape: (21043, 10)\n",
      "Training Labels Shape: (21043,)\n",
      "Testing Features Shape: (7015, 10)\n",
      "Testing Labels Shape: (7015,)\n"
     ]
    }
   ],
   "source": [
    "print('Training Features Shape:', train_features.shape)\n",
    "print('Training Labels Shape:', train_labels.shape)\n",
    "print('Testing Features Shape:', test_features.shape)\n",
    "print('Testing Labels Shape:', test_labels.shape)"
   ]
  },
  {
   "cell_type": "code",
   "execution_count": 17,
   "id": "42345a7c-77ed-4403-9709-ef3ed6aa1721",
   "metadata": {},
   "outputs": [],
   "source": [
    "from sklearn.ensemble import RandomForestRegressor\n",
    "chosen_model=RandomForestRegressor(n_estimators = 1000, random_state = 42)\n",
    "rf = chosen_model\n",
    "\n",
    "rf.fit(train_features, train_labels);"
   ]
  },
  {
   "cell_type": "code",
   "execution_count": 18,
   "id": "2668830d-c085-4712-8219-3b9558ebb797",
   "metadata": {},
   "outputs": [
    {
     "name": "stdout",
     "output_type": "stream",
     "text": [
      "Mean Absolute Error: 0.02\n",
      "MSE: 0.0\n"
     ]
    }
   ],
   "source": [
    "predictions = rf.predict(test_features)\n",
    "# Calculate the errors\n",
    "errors = predictions - test_labels\n",
    "# Print out the mean absolute error (mae)\n",
    "print('Mean Absolute Error:', round(np.mean(abs(errors)), 2))\n",
    "print('MSE:', round(mean_squared_error(test_labels,predictions),2))"
   ]
  },
  {
   "cell_type": "markdown",
   "id": "873e2151-4727-4706-ae43-49b06fbf3a12",
   "metadata": {},
   "source": [
    "## predicted vs actual values for test dataset\n"
   ]
  },
  {
   "cell_type": "code",
   "execution_count": 19,
   "id": "4fa825d3-8c90-4565-b706-1a985e0cdad1",
   "metadata": {},
   "outputs": [
    {
     "data": {
      "image/png": "[encoded data removed]",
      "text/plain": [
       "<Figure size 600x500 with 1 Axes>"
      ]
     },
     "metadata": {},
     "output_type": "display_data"
    }
   ],
   "source": [
    "fig, ax = plt.subplots(figsize=(6,5))\n",
    "\n",
    "true_val,pred_val = test_labels,predictions\n",
    "ax.scatter(true_val,pred_val,alpha=0.5)\n",
    "\n",
    "\n",
    "\n",
    "lims = [\n",
    "    np.min([ax.get_xlim(), ax.get_ylim()]),  # min of both axes\n",
    "    np.max([ax.get_xlim(), ax.get_ylim()]),  # max of both axes\n",
    "]\n",
    "\n",
    "ax.text(0.1,\n",
    "                   0.9,f'$R^2$ value = {format(r2_score(true_val,pred_val),\"0.2f\")}',\n",
    "                   transform=ax.transAxes,fontsize=12)\n",
    "\n",
    "ax.text(0.1,\n",
    "                   0.85,f'Pearson = {format(pearsonr(true_val, pred_val)[0],\"0.2f\")}',\n",
    "                   transform=ax.transAxes,fontsize=12)\n",
    "ax.text(0.05,\n",
    "                   0.8,f'Mean Squared Error = {round(mean_squared_error(true_val,pred_val),2)}',\n",
    "                   transform=ax.transAxes,fontsize=12)\n",
    "\n",
    "\n",
    "# now plot both limits against eachother\n",
    "ax.plot(lims, lims, 'k--', alpha=1, zorder=1)\n",
    "ax.set_aspect('equal')\n",
    "ax.set_xlim(lims)\n",
    "ax.set_ylim(lims)\n",
    "\n",
    "plt.setp(ax.get_xticklabels(),fontsize=14,rotation=45)\n",
    "plt.setp(ax.get_yticklabels(),fontsize=14)\n",
    "ax.set_xlabel('Actual values',fontsize=18)\n",
    "ax.set_ylabel('Predicted values',fontsize=18)\n",
    "\n",
    "for i in ['top', 'left', 'right', 'bottom']:\n",
    "        ax.spines[i].set_linewidth(1.6)\n",
    "del true_val, pred_val"
   ]
  },
  {
   "cell_type": "markdown",
   "id": "fc0455a5-c59b-456b-bc4b-49acacb77d51",
   "metadata": {},
   "source": [
    "## double-check what predicted vs actual looks like for training dataset"
   ]
  },
  {
   "cell_type": "code",
   "execution_count": 20,
   "id": "5e69f52b-475d-4b46-bf6d-6eedb5d1fdfe",
   "metadata": {},
   "outputs": [
    {
     "data": {
      "image/png": "[encoded data removed]",
      "text/plain": [
       "<Figure size 600x500 with 1 Axes>"
      ]
     },
     "metadata": {},
     "output_type": "display_data"
    }
   ],
   "source": [
    "fig, ax = plt.subplots(figsize=(6,5))\n",
    "\n",
    "true_val,pred_val = train_labels,rf.predict(train_features)\n",
    "ax.scatter(true_val,pred_val,alpha=0.5)\n",
    "\n",
    "\n",
    "\n",
    "lims = [\n",
    "    np.min([ax.get_xlim(), ax.get_ylim()]),  # min of both axes\n",
    "    np.max([ax.get_xlim(), ax.get_ylim()]),  # max of both axes\n",
    "]\n",
    "\n",
    "ax.text(0.1,\n",
    "                   0.9,f'$R^2$ value = {format(r2_score(true_val,pred_val),\"0.2f\")}',\n",
    "                   transform=ax.transAxes,fontsize=12)\n",
    "\n",
    "ax.text(0.1,\n",
    "                   0.85,f'Pearson = {format(pearsonr(true_val,pred_val)[0],\"0.2f\")}',\n",
    "                   transform=ax.transAxes,fontsize=12)\n",
    "ax.text(0.05,\n",
    "                   0.8,f'Mean Squared Error = {round(mean_squared_error(true_val,pred_val),2)}',\n",
    "                   transform=ax.transAxes,fontsize=12)\n",
    "\n",
    "\n",
    "# now plot both limits against eachother\n",
    "ax.plot(lims, lims, 'k--', alpha=1, zorder=1)\n",
    "ax.set_aspect('equal')\n",
    "ax.set_xlim(lims)\n",
    "ax.set_ylim(lims)\n",
    "\n",
    "plt.setp(ax.get_xticklabels(),fontsize=14,rotation=45)\n",
    "plt.setp(ax.get_yticklabels(),fontsize=14)\n",
    "ax.set_xlabel('Actual values',fontsize=18)\n",
    "ax.set_ylabel('Predicted values',fontsize=18)\n",
    "\n",
    "for i in ['top', 'left', 'right', 'bottom']:\n",
    "        ax.spines[i].set_linewidth(1.6)\n",
    "del true_val, pred_val"
   ]
  },
  {
   "cell_type": "markdown",
   "id": "789a1c81-b2c4-489d-9572-2a1f8c0515b0",
   "metadata": {},
   "source": [
    "## Residuals (only for test dataset)"
   ]
  },
  {
   "cell_type": "code",
   "execution_count": 21,
   "id": "992a4194-1060-4369-bbb4-81813ec583b2",
   "metadata": {},
   "outputs": [
    {
     "data": {
      "image/png": "[encoded data removed]",
      "text/plain": [
       "<Figure size 600x500 with 1 Axes>"
      ]
     },
     "metadata": {},
     "output_type": "display_data"
    }
   ],
   "source": [
    "fig, ax = plt.subplots(figsize=(6,5))\n",
    "ax.hist(errors,bins=np.arange(np.min(errors),np.max(errors),0.001),histtype='step',density=True,linewidth=1)\n",
    "plt.setp(ax.get_xticklabels(),fontsize=14,rotation=45)\n",
    "plt.setp(ax.get_yticklabels(),fontsize=14)\n",
    "ax.set_xlabel('Residuals',fontsize=18)\n",
    "ax.set_ylabel('Prob. Density',fontsize=18)\n",
    "\n",
    "for i in ['top', 'left', 'right', 'bottom']:\n",
    "        ax.spines[i].set_linewidth(1.6)"
   ]
  },
  {
   "cell_type": "code",
   "execution_count": 22,
   "id": "1807d79d-9a1c-4044-87e7-e85660fa4e04",
   "metadata": {},
   "outputs": [
    {
     "name": "stdout",
     "output_type": "stream",
     "text": [
      "Accuracy: 96.82 %.\n"
     ]
    }
   ],
   "source": [
    "# Calculate mean absolute percentage error (MAPE)\n",
    "mape = 100 * (abs(errors) / test_labels)\n",
    "# Calculate and display accuracy\n",
    "accuracy = 100 - np.mean(mape)\n",
    "print('Accuracy:', round(accuracy, 2), '%.')"
   ]
  },
  {
   "cell_type": "code",
   "execution_count": 23,
   "id": "649226bf-6371-4229-9430-2b80243269d7",
   "metadata": {},
   "outputs": [],
   "source": [
    "del labels, features, mape, accuracy, predictions, errors,train_features, test_features, train_labels, test_labels, rf"
   ]
  },
  {
   "cell_type": "markdown",
   "id": "c43bbe8b-a700-4123-a836-b8e01c9ed3af",
   "metadata": {},
   "source": [
    "## Now running model 6 times each time using random train-test split\n"
   ]
  },
  {
   "cell_type": "code",
   "execution_count": null,
   "id": "78238d8d-aa01-44f1-8399-a531bc376f35",
   "metadata": {},
   "outputs": [],
   "source": [
    "%%time\n",
    "fig, axs = plt.subplots(nrows=2,ncols=3,figsize=(18,10))\n",
    "n = 6\n",
    "for i,ax in zip(range(n),axs.ravel()):\n",
    "    features= np.array(X)\n",
    "    labels = np.array(y)\n",
    "    train_features, test_features, train_labels, test_labels = train_test_split(features, labels, test_size = 0.25, random_state = i)    \n",
    "    rf = chosen_model\n",
    "    rf.fit(train_features, train_labels);\n",
    "    predictions = rf.predict(test_features)\n",
    "    errors = predictions - test_labels\n",
    "    \n",
    "    #Generate plot\n",
    "    \n",
    "    true_val,pred_val = test_labels,predictions\n",
    "    ax.scatter(true_val,pred_val,alpha=0.5)\n",
    "    \n",
    "    \n",
    "    \n",
    "    lims = [\n",
    "        np.min([ax.get_xlim(), ax.get_ylim()]),  # min of both axes\n",
    "        np.max([ax.get_xlim(), ax.get_ylim()]),  # max of both axes\n",
    "    ]\n",
    "    \n",
    "    ax.text(0.1,\n",
    "                       0.9,f'$R^2$ value = {format(r2_score(true_val,pred_val),\"0.2f\")}',\n",
    "                       transform=ax.transAxes,fontsize=12)\n",
    "    \n",
    "    ax.text(0.1,\n",
    "                       0.85,f'Pearson = {format(pearsonr(true_val,pred_val)[0],\"0.2f\")}',\n",
    "                       transform=ax.transAxes,fontsize=12)\n",
    "    ax.text(0.05,\n",
    "                       0.8,f'Mean Squared Error = {round(mean_squared_error(true_val,pred_val),2)}',\n",
    "                       transform=ax.transAxes,fontsize=12)\n",
    "    \n",
    "    \n",
    "    # now plot both limits against eachother\n",
    "    ax.plot(lims, lims, 'k--', alpha=1, zorder=1)\n",
    "    ax.set_aspect('equal')\n",
    "    ax.set_xlim(lims)\n",
    "    ax.set_ylim(lims)\n",
    "    \n",
    "    plt.setp(ax.get_xticklabels(),fontsize=14,rotation=45)\n",
    "    plt.setp(ax.get_yticklabels(),fontsize=14)\n",
    "    ax.set_xlabel('Actual values',fontsize=18)\n",
    "    ax.set_ylabel('Predicted values',fontsize=18)\n",
    "    \n",
    "    for i in ['top', 'left', 'right', 'bottom']:\n",
    "            ax.spines[i].set_linewidth(1.6)\n",
    "    del true_val, pred_val\n",
    "\n",
    "plt.tight_layout()"
   ]
  },
  {
   "cell_type": "code",
   "execution_count": null,
   "id": "0cff20e6-aa27-4947-b00c-9643040922ba",
   "metadata": {},
   "outputs": [],
   "source": [
    "del chosen_model, labels, features, train_features, test_features, train_labels, test_labels, rf, predictions, errors"
   ]
  },
  {
   "cell_type": "code",
   "execution_count": null,
   "id": "e062b3a1-6604-499b-876b-1ae2a3b2cd58",
   "metadata": {},
   "outputs": [],
   "source": []
  },
  {
   "cell_type": "markdown",
   "id": "482a21a3-8ed2-42c3-a45a-56ebb56b4e71",
   "metadata": {},
   "source": [
    "# separate X and y (using shape ratio)\n"
   ]
  },
  {
   "cell_type": "code",
   "execution_count": null,
   "id": "82dd98eb-e5ec-4582-bfc3-b03f1b8f0ddd",
   "metadata": {},
   "outputs": [],
   "source": [
    "X = idrome_prop_df[idrome_prop_df.columns[idrome_prop_df.columns.str.contains('ratio')]]\n",
    "y = idrome_prop_df['nu']"
   ]
  },
  {
   "cell_type": "markdown",
   "id": "5a265298-c054-4f4e-97f6-c2a388317193",
   "metadata": {},
   "source": [
    "# Run Regressor models"
   ]
  },
  {
   "cell_type": "markdown",
   "id": "d4da7a35-956f-4b71-8f05-85d0e24f0d2e",
   "metadata": {},
   "source": [
    "## Random Forest regressor 25% test size"
   ]
  },
  {
   "cell_type": "code",
   "execution_count": null,
   "id": "b251114b-f0c7-4ea4-8246-08d535c299eb",
   "metadata": {},
   "outputs": [],
   "source": [
    "# adapted from this website: https://towardsdatascience.com/random-forest-in-python-24d0893d51c0\n",
    "\n",
    "labels = np.array(y)\n",
    "features= np.array(X)"
   ]
  },
  {
   "cell_type": "code",
   "execution_count": null,
   "id": "e8742ae6-bee7-4239-8b85-a488369921eb",
   "metadata": {},
   "outputs": [],
   "source": [
    "print('fixed seed here')\n",
    "train_features, test_features, train_labels, test_labels = train_test_split(features, labels, test_size = 0.25, random_state = 42)"
   ]
  },
  {
   "cell_type": "code",
   "execution_count": null,
   "id": "585bc34f-078b-465d-a6d4-113351d21ca6",
   "metadata": {},
   "outputs": [],
   "source": [
    "print('Training Features Shape:', train_features.shape)\n",
    "print('Training Labels Shape:', train_labels.shape)\n",
    "print('Testing Features Shape:', test_features.shape)\n",
    "print('Testing Labels Shape:', test_labels.shape)"
   ]
  },
  {
   "cell_type": "code",
   "execution_count": null,
   "id": "6e1c16d0-6295-45ad-9eb1-eeeb261ce12c",
   "metadata": {},
   "outputs": [],
   "source": [
    "from sklearn.ensemble import RandomForestRegressor\n",
    "chosen_model=RandomForestRegressor(n_estimators = 1000, random_state = 42)\n",
    "rf = chosen_model\n",
    "\n",
    "rf.fit(train_features, train_labels);"
   ]
  },
  {
   "cell_type": "code",
   "execution_count": null,
   "id": "d5868196-95ac-44ba-914f-ff97bb84d0aa",
   "metadata": {},
   "outputs": [],
   "source": [
    "predictions = rf.predict(test_features)\n",
    "# Calculate the errors\n",
    "errors = predictions - test_labels\n",
    "# Print out the mean absolute error (mae)\n",
    "print('Mean Absolute Error:', round(np.mean(abs(errors)), 2))\n",
    "print('MSE:', round(mean_squared_error(test_labels,predictions),2))"
   ]
  },
  {
   "cell_type": "markdown",
   "id": "5e606174-32a5-4172-bab8-849086534f12",
   "metadata": {},
   "source": [
    "## predicted vs actual values for test dataset\n"
   ]
  },
  {
   "cell_type": "code",
   "execution_count": null,
   "id": "e8413530-f006-452d-8388-44f9482c8b4f",
   "metadata": {},
   "outputs": [],
   "source": [
    "fig, ax = plt.subplots(figsize=(6,5))\n",
    "\n",
    "true_val,pred_val = test_labels,predictions\n",
    "ax.scatter(true_val,pred_val,alpha=0.5)\n",
    "\n",
    "\n",
    "\n",
    "lims = [\n",
    "    np.min([ax.get_xlim(), ax.get_ylim()]),  # min of both axes\n",
    "    np.max([ax.get_xlim(), ax.get_ylim()]),  # max of both axes\n",
    "]\n",
    "\n",
    "ax.text(0.1,\n",
    "                   0.9,f'$R^2$ value = {format(r2_score(true_val,pred_val),\"0.2f\")}',\n",
    "                   transform=ax.transAxes,fontsize=12)\n",
    "\n",
    "ax.text(0.1,\n",
    "                   0.85,f'Pearson = {format(pearsonr(true_val, pred_val)[0],\"0.2f\")}',\n",
    "                   transform=ax.transAxes,fontsize=12)\n",
    "ax.text(0.05,\n",
    "                   0.8,f'Mean Squared Error = {round(mean_squared_error(true_val,pred_val),2)}',\n",
    "                   transform=ax.transAxes,fontsize=12)\n",
    "\n",
    "\n",
    "# now plot both limits against eachother\n",
    "ax.plot(lims, lims, 'k--', alpha=1, zorder=1)\n",
    "ax.set_aspect('equal')\n",
    "ax.set_xlim(lims)\n",
    "ax.set_ylim(lims)\n",
    "\n",
    "plt.setp(ax.get_xticklabels(),fontsize=14,rotation=45)\n",
    "plt.setp(ax.get_yticklabels(),fontsize=14)\n",
    "ax.set_xlabel('Actual values',fontsize=18)\n",
    "ax.set_ylabel('Predicted values',fontsize=18)\n",
    "\n",
    "for i in ['top', 'left', 'right', 'bottom']:\n",
    "        ax.spines[i].set_linewidth(1.6)\n",
    "del true_val, pred_val"
   ]
  },
  {
   "cell_type": "markdown",
   "id": "04443794-0b51-4586-937c-92828af22080",
   "metadata": {},
   "source": [
    "## double-check what predicted vs actual looks like for training dataset"
   ]
  },
  {
   "cell_type": "code",
   "execution_count": null,
   "id": "e30ca9b8-c8d1-4905-b432-8384600c4d11",
   "metadata": {},
   "outputs": [],
   "source": [
    "fig, ax = plt.subplots(figsize=(6,5))\n",
    "\n",
    "true_val,pred_val = train_labels,rf.predict(train_features)\n",
    "ax.scatter(true_val,pred_val,alpha=0.5)\n",
    "\n",
    "\n",
    "\n",
    "lims = [\n",
    "    np.min([ax.get_xlim(), ax.get_ylim()]),  # min of both axes\n",
    "    np.max([ax.get_xlim(), ax.get_ylim()]),  # max of both axes\n",
    "]\n",
    "\n",
    "ax.text(0.1,\n",
    "                   0.9,f'$R^2$ value = {format(r2_score(true_val,pred_val),\"0.2f\")}',\n",
    "                   transform=ax.transAxes,fontsize=12)\n",
    "\n",
    "ax.text(0.1,\n",
    "                   0.85,f'Pearson = {format(pearsonr(true_val,pred_val)[0],\"0.2f\")}',\n",
    "                   transform=ax.transAxes,fontsize=12)\n",
    "ax.text(0.05,\n",
    "                   0.8,f'Mean Squared Error = {round(mean_squared_error(true_val,pred_val),2)}',\n",
    "                   transform=ax.transAxes,fontsize=12)\n",
    "\n",
    "\n",
    "# now plot both limits against eachother\n",
    "ax.plot(lims, lims, 'k--', alpha=1, zorder=1)\n",
    "ax.set_aspect('equal')\n",
    "ax.set_xlim(lims)\n",
    "ax.set_ylim(lims)\n",
    "\n",
    "plt.setp(ax.get_xticklabels(),fontsize=14,rotation=45)\n",
    "plt.setp(ax.get_yticklabels(),fontsize=14)\n",
    "ax.set_xlabel('Actual values',fontsize=18)\n",
    "ax.set_ylabel('Predicted values',fontsize=18)\n",
    "\n",
    "for i in ['top', 'left', 'right', 'bottom']:\n",
    "        ax.spines[i].set_linewidth(1.6)\n",
    "del true_val, pred_val"
   ]
  },
  {
   "cell_type": "markdown",
   "id": "a8747c3d-3b00-4095-90e1-ab25a504185b",
   "metadata": {},
   "source": [
    "## Residuals (only for test dataset)"
   ]
  },
  {
   "cell_type": "code",
   "execution_count": null,
   "id": "26a12985-bdd5-4895-a0c8-3c8fec9bcbcd",
   "metadata": {},
   "outputs": [],
   "source": [
    "fig, ax = plt.subplots(figsize=(6,5))\n",
    "ax.hist(errors,bins=np.arange(np.min(errors),np.max(errors),0.001),histtype='step',density=True,linewidth=1)\n",
    "plt.setp(ax.get_xticklabels(),fontsize=14,rotation=45)\n",
    "plt.setp(ax.get_yticklabels(),fontsize=14)\n",
    "ax.set_xlabel('Residuals',fontsize=18)\n",
    "ax.set_ylabel('Prob. Density',fontsize=18)\n",
    "\n",
    "for i in ['top', 'left', 'right', 'bottom']:\n",
    "        ax.spines[i].set_linewidth(1.6)"
   ]
  },
  {
   "cell_type": "code",
   "execution_count": null,
   "id": "f1359651-a5ac-4e43-a61d-f13d5c3c0984",
   "metadata": {},
   "outputs": [],
   "source": [
    "# Calculate mean absolute percentage error (MAPE)\n",
    "mape = 100 * (abs(errors) / test_labels)\n",
    "# Calculate and display accuracy\n",
    "accuracy = 100 - np.mean(mape)\n",
    "print('Accuracy:', round(accuracy, 2), '%.')"
   ]
  },
  {
   "cell_type": "code",
   "execution_count": null,
   "id": "93a817c9-847b-4eb0-bfa6-8a739171c3cb",
   "metadata": {},
   "outputs": [],
   "source": [
    "del labels, features, mape, accuracy, predictions, errors,train_features, test_features, train_labels, test_labels, rf"
   ]
  },
  {
   "cell_type": "markdown",
   "id": "f91a7908-dea5-4f91-acea-6ed0df9ef9ca",
   "metadata": {},
   "source": [
    "## Now running model 6 times each time using random train-test split\n"
   ]
  },
  {
   "cell_type": "code",
   "execution_count": null,
   "id": "e45390ce-bcfc-431e-b01f-d2c9d3f2db0d",
   "metadata": {},
   "outputs": [],
   "source": [
    "%%time\n",
    "fig, axs = plt.subplots(nrows=2,ncols=3,figsize=(18,10))\n",
    "n = 6\n",
    "for i,ax in zip(range(n),axs.ravel()):\n",
    "    features= np.array(X)\n",
    "    labels = np.array(y)\n",
    "    train_features, test_features, train_labels, test_labels = train_test_split(features, labels, test_size = 0.25, random_state = i)    \n",
    "    rf = chosen_model\n",
    "    rf.fit(train_features, train_labels);\n",
    "    predictions = rf.predict(test_features)\n",
    "    errors = predictions - test_labels\n",
    "    \n",
    "    #Generate plot\n",
    "    \n",
    "    true_val,pred_val = test_labels,predictions\n",
    "    ax.scatter(true_val,pred_val,alpha=0.5)\n",
    "    \n",
    "    \n",
    "    \n",
    "    lims = [\n",
    "        np.min([ax.get_xlim(), ax.get_ylim()]),  # min of both axes\n",
    "        np.max([ax.get_xlim(), ax.get_ylim()]),  # max of both axes\n",
    "    ]\n",
    "    \n",
    "    ax.text(0.1,\n",
    "                       0.9,f'$R^2$ value = {format(r2_score(true_val,pred_val),\"0.2f\")}',\n",
    "                       transform=ax.transAxes,fontsize=12)\n",
    "    \n",
    "    ax.text(0.1,\n",
    "                       0.85,f'Pearson = {format(pearsonr(true_val,pred_val)[0],\"0.2f\")}',\n",
    "                       transform=ax.transAxes,fontsize=12)\n",
    "    ax.text(0.05,\n",
    "                       0.8,f'Mean Squared Error = {round(mean_squared_error(true_val,pred_val),2)}',\n",
    "                       transform=ax.transAxes,fontsize=12)\n",
    "    \n",
    "    \n",
    "    # now plot both limits against eachother\n",
    "    ax.plot(lims, lims, 'k--', alpha=1, zorder=1)\n",
    "    ax.set_aspect('equal')\n",
    "    ax.set_xlim(lims)\n",
    "    ax.set_ylim(lims)\n",
    "    \n",
    "    plt.setp(ax.get_xticklabels(),fontsize=14,rotation=45)\n",
    "    plt.setp(ax.get_yticklabels(),fontsize=14)\n",
    "    ax.set_xlabel('Actual values',fontsize=18)\n",
    "    ax.set_ylabel('Predicted values',fontsize=18)\n",
    "    \n",
    "    for i in ['top', 'left', 'right', 'bottom']:\n",
    "            ax.spines[i].set_linewidth(1.6)\n",
    "    del true_val, pred_val\n",
    "\n",
    "plt.tight_layout()"
   ]
  },
  {
   "cell_type": "code",
   "execution_count": null,
   "id": "88ad0dcd-9aa0-45a7-81e6-95b1d6165100",
   "metadata": {},
   "outputs": [],
   "source": [
    "del chosen_model, labels, features, train_features, test_features, train_labels, test_labels, rf, predictions, errors"
   ]
  },
  {
   "cell_type": "code",
   "execution_count": null,
   "id": "ca0d8e50-f06d-4d5e-b0fb-ae174ed5f1bb",
   "metadata": {},
   "outputs": [],
   "source": []
  },
  {
   "cell_type": "markdown",
   "id": "5b329d52-7f8e-4561-99f4-5f6009fcfc09",
   "metadata": {},
   "source": [
    "# separate X and y (using RSA)\n"
   ]
  },
  {
   "cell_type": "code",
   "execution_count": null,
   "id": "659eb7f0-9d91-4535-ba42-3d2c6cb35fd5",
   "metadata": {},
   "outputs": [],
   "source": [
    "X = idrome_prop_df[idrome_prop_df.columns[idrome_prop_df.columns.str.contains('RSA')]]\n",
    "y = idrome_prop_df['nu']"
   ]
  },
  {
   "cell_type": "markdown",
   "id": "3a86ae5d-0189-4316-9e43-0e5a8c427085",
   "metadata": {},
   "source": [
    "# Run Regressor models"
   ]
  },
  {
   "cell_type": "markdown",
   "id": "677501c7-48b9-4749-a353-fb869ecf3d4b",
   "metadata": {},
   "source": [
    "## Random Forest regressor 25% test size"
   ]
  },
  {
   "cell_type": "code",
   "execution_count": null,
   "id": "933c5381-9534-40dc-9006-7868acb1a0d3",
   "metadata": {},
   "outputs": [],
   "source": [
    "# adapted from this website: https://towardsdatascience.com/random-forest-in-python-24d0893d51c0\n",
    "\n",
    "labels = np.array(y)\n",
    "features= np.array(X)"
   ]
  },
  {
   "cell_type": "code",
   "execution_count": null,
   "id": "85f45eb6-7e55-407d-9c33-e4d3f40ea301",
   "metadata": {},
   "outputs": [],
   "source": [
    "print('fixed seed here')\n",
    "train_features, test_features, train_labels, test_labels = train_test_split(features, labels, test_size = 0.25, random_state = 42)"
   ]
  },
  {
   "cell_type": "code",
   "execution_count": null,
   "id": "773af8d0-45e1-4315-97ec-088507236996",
   "metadata": {},
   "outputs": [],
   "source": [
    "print('Training Features Shape:', train_features.shape)\n",
    "print('Training Labels Shape:', train_labels.shape)\n",
    "print('Testing Features Shape:', test_features.shape)\n",
    "print('Testing Labels Shape:', test_labels.shape)"
   ]
  },
  {
   "cell_type": "code",
   "execution_count": null,
   "id": "b47d26f6-aad9-4a62-9e98-68bffd9fb426",
   "metadata": {},
   "outputs": [],
   "source": [
    "from sklearn.ensemble import RandomForestRegressor\n",
    "chosen_model=RandomForestRegressor(n_estimators = 1000, random_state = 42)\n",
    "rf = chosen_model\n",
    "\n",
    "rf.fit(train_features, train_labels);"
   ]
  },
  {
   "cell_type": "code",
   "execution_count": null,
   "id": "fc0ab40f-ba9d-4e33-b59d-9a55a3004698",
   "metadata": {},
   "outputs": [],
   "source": [
    "predictions = rf.predict(test_features)\n",
    "# Calculate the errors\n",
    "errors = predictions - test_labels\n",
    "# Print out the mean absolute error (mae)\n",
    "print('Mean Absolute Error:', round(np.mean(abs(errors)), 2))\n",
    "print('MSE:', round(mean_squared_error(test_labels,predictions),2))"
   ]
  },
  {
   "cell_type": "markdown",
   "id": "ddf31602-7ee9-4534-8fc8-53be5c27406b",
   "metadata": {},
   "source": [
    "## predicted vs actual values for test dataset\n"
   ]
  },
  {
   "cell_type": "code",
   "execution_count": null,
   "id": "b6938b13-6afa-4ae4-811c-c698c9918dce",
   "metadata": {},
   "outputs": [],
   "source": [
    "fig, ax = plt.subplots(figsize=(6,5))\n",
    "\n",
    "true_val,pred_val = test_labels,predictions\n",
    "ax.scatter(true_val,pred_val,alpha=0.5)\n",
    "\n",
    "\n",
    "\n",
    "lims = [\n",
    "    np.min([ax.get_xlim(), ax.get_ylim()]),  # min of both axes\n",
    "    np.max([ax.get_xlim(), ax.get_ylim()]),  # max of both axes\n",
    "]\n",
    "\n",
    "ax.text(0.1,\n",
    "                   0.9,f'$R^2$ value = {format(r2_score(true_val,pred_val),\"0.2f\")}',\n",
    "                   transform=ax.transAxes,fontsize=12)\n",
    "\n",
    "ax.text(0.1,\n",
    "                   0.85,f'Pearson = {format(pearsonr(true_val, pred_val)[0],\"0.2f\")}',\n",
    "                   transform=ax.transAxes,fontsize=12)\n",
    "ax.text(0.05,\n",
    "                   0.8,f'Mean Squared Error = {round(mean_squared_error(true_val,pred_val),2)}',\n",
    "                   transform=ax.transAxes,fontsize=12)\n",
    "\n",
    "\n",
    "# now plot both limits against eachother\n",
    "ax.plot(lims, lims, 'k--', alpha=1, zorder=1)\n",
    "ax.set_aspect('equal')\n",
    "ax.set_xlim(lims)\n",
    "ax.set_ylim(lims)\n",
    "\n",
    "plt.setp(ax.get_xticklabels(),fontsize=14,rotation=45)\n",
    "plt.setp(ax.get_yticklabels(),fontsize=14)\n",
    "ax.set_xlabel('Actual values',fontsize=18)\n",
    "ax.set_ylabel('Predicted values',fontsize=18)\n",
    "\n",
    "for i in ['top', 'left', 'right', 'bottom']:\n",
    "        ax.spines[i].set_linewidth(1.6)\n",
    "del true_val, pred_val"
   ]
  },
  {
   "cell_type": "markdown",
   "id": "3acc300b-fd67-4798-b21a-01f3b046afe1",
   "metadata": {},
   "source": [
    "## double-check what predicted vs actual looks like for training dataset"
   ]
  },
  {
   "cell_type": "code",
   "execution_count": null,
   "id": "21a1f117-a364-4d9b-b542-df480778876b",
   "metadata": {},
   "outputs": [],
   "source": [
    "fig, ax = plt.subplots(figsize=(6,5))\n",
    "\n",
    "true_val,pred_val = train_labels,rf.predict(train_features)\n",
    "ax.scatter(true_val,pred_val,alpha=0.5)\n",
    "\n",
    "\n",
    "\n",
    "lims = [\n",
    "    np.min([ax.get_xlim(), ax.get_ylim()]),  # min of both axes\n",
    "    np.max([ax.get_xlim(), ax.get_ylim()]),  # max of both axes\n",
    "]\n",
    "\n",
    "ax.text(0.1,\n",
    "                   0.9,f'$R^2$ value = {format(r2_score(true_val,pred_val),\"0.2f\")}',\n",
    "                   transform=ax.transAxes,fontsize=12)\n",
    "\n",
    "ax.text(0.1,\n",
    "                   0.85,f'Pearson = {format(pearsonr(true_val,pred_val)[0],\"0.2f\")}',\n",
    "                   transform=ax.transAxes,fontsize=12)\n",
    "ax.text(0.05,\n",
    "                   0.8,f'Mean Squared Error = {round(mean_squared_error(true_val,pred_val),2)}',\n",
    "                   transform=ax.transAxes,fontsize=12)\n",
    "\n",
    "\n",
    "# now plot both limits against eachother\n",
    "ax.plot(lims, lims, 'k--', alpha=1, zorder=1)\n",
    "ax.set_aspect('equal')\n",
    "ax.set_xlim(lims)\n",
    "ax.set_ylim(lims)\n",
    "\n",
    "plt.setp(ax.get_xticklabels(),fontsize=14,rotation=45)\n",
    "plt.setp(ax.get_yticklabels(),fontsize=14)\n",
    "ax.set_xlabel('Actual values',fontsize=18)\n",
    "ax.set_ylabel('Predicted values',fontsize=18)\n",
    "\n",
    "for i in ['top', 'left', 'right', 'bottom']:\n",
    "        ax.spines[i].set_linewidth(1.6)\n",
    "del true_val, pred_val"
   ]
  },
  {
   "cell_type": "markdown",
   "id": "6c6bf3c9-89ac-479c-aef1-35b65e9baa8d",
   "metadata": {},
   "source": [
    "## Residuals (only for test dataset)"
   ]
  },
  {
   "cell_type": "code",
   "execution_count": null,
   "id": "f178182c-2875-45b6-a015-3c909525d6c2",
   "metadata": {},
   "outputs": [],
   "source": [
    "fig, ax = plt.subplots(figsize=(6,5))\n",
    "ax.hist(errors,bins=np.arange(np.min(errors),np.max(errors),0.001),histtype='step',density=True,linewidth=1)\n",
    "plt.setp(ax.get_xticklabels(),fontsize=14,rotation=45)\n",
    "plt.setp(ax.get_yticklabels(),fontsize=14)\n",
    "ax.set_xlabel('Residuals',fontsize=18)\n",
    "ax.set_ylabel('Prob. Density',fontsize=18)\n",
    "\n",
    "for i in ['top', 'left', 'right', 'bottom']:\n",
    "        ax.spines[i].set_linewidth(1.6)"
   ]
  },
  {
   "cell_type": "code",
   "execution_count": null,
   "id": "467c9ad7-cae9-4c86-adf4-7a4ac5816ed1",
   "metadata": {},
   "outputs": [],
   "source": [
    "# Calculate mean absolute percentage error (MAPE)\n",
    "mape = 100 * (abs(errors) / test_labels)\n",
    "# Calculate and display accuracy\n",
    "accuracy = 100 - np.mean(mape)\n",
    "print('Accuracy:', round(accuracy, 2), '%.')"
   ]
  },
  {
   "cell_type": "code",
   "execution_count": null,
   "id": "2b3583df-48eb-4a2c-bbfb-4904608de805",
   "metadata": {},
   "outputs": [],
   "source": [
    "del labels, features, mape, accuracy, predictions, errors,train_features, test_features, train_labels, test_labels, rf"
   ]
  },
  {
   "cell_type": "markdown",
   "id": "2b0e0305-6b10-4ac1-9ff8-c5be7c4963c0",
   "metadata": {},
   "source": [
    "## Now running model 6 times each time using random train-test split\n"
   ]
  },
  {
   "cell_type": "code",
   "execution_count": null,
   "id": "4af54017-d1fc-4c1d-94c1-6e3520e90dfa",
   "metadata": {},
   "outputs": [],
   "source": [
    "%%time\n",
    "fig, axs = plt.subplots(nrows=2,ncols=3,figsize=(18,10))\n",
    "n = 6\n",
    "for i,ax in zip(range(n),axs.ravel()):\n",
    "    features= np.array(X)\n",
    "    labels = np.array(y)\n",
    "    train_features, test_features, train_labels, test_labels = train_test_split(features, labels, test_size = 0.25, random_state = i)    \n",
    "    rf = chosen_model\n",
    "    rf.fit(train_features, train_labels);\n",
    "    predictions = rf.predict(test_features)\n",
    "    errors = predictions - test_labels\n",
    "    \n",
    "    #Generate plot\n",
    "    \n",
    "    true_val,pred_val = test_labels,predictions\n",
    "    ax.scatter(true_val,pred_val,alpha=0.5)\n",
    "    \n",
    "    \n",
    "    \n",
    "    lims = [\n",
    "        np.min([ax.get_xlim(), ax.get_ylim()]),  # min of both axes\n",
    "        np.max([ax.get_xlim(), ax.get_ylim()]),  # max of both axes\n",
    "    ]\n",
    "    \n",
    "    ax.text(0.1,\n",
    "                       0.9,f'$R^2$ value = {format(r2_score(true_val,pred_val),\"0.2f\")}',\n",
    "                       transform=ax.transAxes,fontsize=12)\n",
    "    \n",
    "    ax.text(0.1,\n",
    "                       0.85,f'Pearson = {format(pearsonr(true_val,pred_val)[0],\"0.2f\")}',\n",
    "                       transform=ax.transAxes,fontsize=12)\n",
    "    ax.text(0.05,\n",
    "                       0.8,f'Mean Squared Error = {round(mean_squared_error(true_val,pred_val),2)}',\n",
    "                       transform=ax.transAxes,fontsize=12)\n",
    "    \n",
    "    \n",
    "    # now plot both limits against eachother\n",
    "    ax.plot(lims, lims, 'k--', alpha=1, zorder=1)\n",
    "    ax.set_aspect('equal')\n",
    "    ax.set_xlim(lims)\n",
    "    ax.set_ylim(lims)\n",
    "    \n",
    "    plt.setp(ax.get_xticklabels(),fontsize=14,rotation=45)\n",
    "    plt.setp(ax.get_yticklabels(),fontsize=14)\n",
    "    ax.set_xlabel('Actual values',fontsize=18)\n",
    "    ax.set_ylabel('Predicted values',fontsize=18)\n",
    "    \n",
    "    for i in ['top', 'left', 'right', 'bottom']:\n",
    "            ax.spines[i].set_linewidth(1.6)\n",
    "    del true_val, pred_val\n",
    "\n",
    "plt.tight_layout()"
   ]
  },
  {
   "cell_type": "code",
   "execution_count": null,
   "id": "702662aa-8d0f-40c7-8a24-1781e2b56602",
   "metadata": {},
   "outputs": [],
   "source": [
    "del chosen_model, labels, features, train_features, test_features, train_labels, test_labels, rf, predictions, errors"
   ]
  },
  {
   "cell_type": "code",
   "execution_count": null,
   "id": "6462570f-e28f-4642-be08-6682732854a7",
   "metadata": {},
   "outputs": [],
   "source": []
  }
 ],
 "metadata": {
  "kernelspec": {
   "display_name": "Python 3 (ipykernel)",
   "language": "python",
   "name": "python3"
  },
  "language_info": {
   "codemirror_mode": {
    "name": "ipython",
    "version": 3
   },
   "file_extension": ".py",
   "mimetype": "text/x-python",
   "name": "python",
   "nbconvert_exporter": "python",
   "pygments_lexer": "ipython3",
   "version": "3.12.3"
  }
 },
 "nbformat": 4,
 "nbformat_minor": 5
}
